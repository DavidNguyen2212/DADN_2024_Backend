{
 "cells": [
  {
   "cell_type": "markdown",
   "metadata": {},
   "source": [
    "# 1. Tạo kết nối và schema"
   ]
  },
  {
   "cell_type": "code",
   "execution_count": 1,
   "metadata": {},
   "outputs": [],
   "source": [
    "import pymongo as mongo\n",
    "import datetime\n",
    "\n",
    "# Connect to mongoDB\n",
    "client = mongo.MongoClient('mongodb://localhost:27017')\n",
    "db = client['smart_home']\n"
   ]
  },
  {
   "cell_type": "markdown",
   "metadata": {},
   "source": [
    "# 2. Chèn một ví dụ vào các bảng "
   ]
  },
  {
   "cell_type": "code",
   "execution_count": 2,
   "metadata": {},
   "outputs": [
    {
     "data": {
      "text/plain": [
       "InsertOneResult(ObjectId('65f7934b2e2f4b7374049728'), acknowledged=True)"
      ]
     },
     "execution_count": 2,
     "metadata": {},
     "output_type": "execute_result"
    }
   ],
   "source": [
    "# Living room collection\n",
    "lvroom_collection = db[\"livingrooms\"]\n",
    "example = {\n",
    "    \"automode\": False,\n",
    "    \"temp\": 20, \"humidity\": 30, \"lux\": 600,\n",
    "    \"light\": {\n",
    "        \"chandeliers\": \"on\",\n",
    "        \"light1\": \"on\",\n",
    "        \"light2\": \"on\"\n",
    "    },\n",
    "    \"air_conditioner\": {\n",
    "        \"state\": \"on\",\n",
    "        \"current_temp\": 30,\n",
    "    },\n",
    "    \"updated_at\": datetime.datetime.now(datetime.timezone.utc)\n",
    "}\n",
    "\n",
    "lvroom_collection.insert_one(example)\n"
   ]
  },
  {
   "cell_type": "code",
   "execution_count": 13,
   "metadata": {},
   "outputs": [
    {
     "data": {
      "text/plain": [
       "InsertOneResult(ObjectId('65f6cc67e45e24e4bfb74c68'), acknowledged=True)"
      ]
     },
     "execution_count": 13,
     "metadata": {},
     "output_type": "execute_result"
    }
   ],
   "source": [
    "# Bed room collection\n",
    "bedroom_collection = db[\"bedroom\"]\n",
    "example = {\n",
    "    \"automode\": False,\n",
    "    \"temp\": 20, \"humidity\": 30, \"lux\": 600,\n",
    "    \"light\": {\n",
    "        \"chandeliers\": \"on\",\n",
    "        \"light1\": \"on\",\n",
    "        \"light2\": \"on\"\n",
    "    },\n",
    "    \"air_conditioner\": {\n",
    "        \"state\": \"on\",\n",
    "        \"current_temp\": 30,\n",
    "    },\n",
    "    \"updated_at\": datetime.datetime.now(datetime.timezone.utc)\n",
    "}\n",
    "\n",
    "bedroom_collection.insert_one(example)\n"
   ]
  },
  {
   "cell_type": "code",
   "execution_count": 2,
   "metadata": {},
   "outputs": [
    {
     "name": "stdout",
     "output_type": "stream",
     "text": [
      "<class 'str'>\n"
     ]
    }
   ],
   "source": [
    "import datetime, pytz\n",
    "\n",
    "tz = pytz.timezone('Asia/Ho_Chi_Minh')\n",
    "print(type(datetime.datetime.now(tz).isoformat()))"
   ]
  },
  {
   "cell_type": "code",
   "execution_count": 7,
   "metadata": {},
   "outputs": [
    {
     "data": {
      "text/plain": [
       "datetime.datetime(2024, 3, 13, 0, 0)"
      ]
     },
     "execution_count": 7,
     "metadata": {},
     "output_type": "execute_result"
    }
   ],
   "source": [
    "day_to_get_datetime = datetime.datetime.strptime(\"2024-03-12\", \"%Y-%m-%d\")\n",
    "# day_to_get_datetime\n",
    "start_datetime = day_to_get_datetime.replace(hour=0, minute=0, second=0)\n",
    "start_datetime\n",
    "from datetime import timedelta\n",
    "end_datetime = (day_to_get_datetime + timedelta(days=1)).replace(hour=0, minute=0, second=0)\n",
    "end_datetime"
   ]
  },
  {
   "cell_type": "code",
   "execution_count": 11,
   "metadata": {},
   "outputs": [
    {
     "data": {
      "text/plain": [
       "'2024-04-07'"
      ]
     },
     "execution_count": 11,
     "metadata": {},
     "output_type": "execute_result"
    }
   ],
   "source": [
    "day_to_get = datetime.datetime.now(tz).date().isoformat()\n",
    "#.replace(hour=0, minute=0, second=0).isoformat()\n",
    "day_to_get"
   ]
  },
  {
   "cell_type": "code",
   "execution_count": 3,
   "metadata": {},
   "outputs": [
    {
     "data": {
      "text/plain": [
       "{'_id': ObjectId('65fd977d2dbbe71f72f83a0e'),\n",
       " 'roomId': 1,\n",
       " 'deviceId': 100,\n",
       " 'name': 'air_conditioner',\n",
       " 'state': '1',\n",
       " 'current_temp': 28,\n",
       " 'updated_at': '2024-04-08T08:47:54.331537+07:00'}"
      ]
     },
     "execution_count": 3,
     "metadata": {},
     "output_type": "execute_result"
    }
   ],
   "source": [
    "db[\"devices\"].find_one({\"name\": \"air_conditioner\", \"roomId\": 1}, sort=[(\"_id\", -1)])"
   ]
  }
 ],
 "metadata": {
  "kernelspec": {
   "display_name": "Python 3",
   "language": "python",
   "name": "python3"
  },
  "language_info": {
   "codemirror_mode": {
    "name": "ipython",
    "version": 3
   },
   "file_extension": ".py",
   "mimetype": "text/x-python",
   "name": "python",
   "nbconvert_exporter": "python",
   "pygments_lexer": "ipython3",
   "version": "3.12.2"
  }
 },
 "nbformat": 4,
 "nbformat_minor": 2
}
