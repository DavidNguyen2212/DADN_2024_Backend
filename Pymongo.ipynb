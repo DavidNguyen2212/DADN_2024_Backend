{
 "cells": [
  {
   "cell_type": "markdown",
   "metadata": {},
   "source": [
    "# 1. Tạo kết nối và schema"
   ]
  },
  {
   "cell_type": "code",
   "execution_count": 1,
   "metadata": {},
   "outputs": [],
   "source": [
    "import pymongo as mongo\n",
    "import datetime\n",
    "\n",
    "# Connect to mongoDB\n",
    "client = mongo.MongoClient('mongodb://localhost:27017')\n",
    "db = client['smart_home']\n"
   ]
  },
  {
   "cell_type": "markdown",
   "metadata": {},
   "source": [
    "# 2. Chèn một ví dụ vào các bảng "
   ]
  },
  {
   "cell_type": "code",
   "execution_count": 2,
   "metadata": {},
   "outputs": [
    {
     "data": {
      "text/plain": [
       "InsertOneResult(ObjectId('65f7934b2e2f4b7374049728'), acknowledged=True)"
      ]
     },
     "execution_count": 2,
     "metadata": {},
     "output_type": "execute_result"
    }
   ],
   "source": [
    "# Living room collection\n",
    "lvroom_collection = db[\"livingrooms\"]\n",
    "example = {\n",
    "    \"automode\": False,\n",
    "    \"temp\": 20, \"humidity\": 30, \"lux\": 600,\n",
    "    \"light\": {\n",
    "        \"chandeliers\": \"on\",\n",
    "        \"light1\": \"on\",\n",
    "        \"light2\": \"on\"\n",
    "    },\n",
    "    \"air_conditioner\": {\n",
    "        \"state\": \"on\",\n",
    "        \"current_temp\": 30,\n",
    "    },\n",
    "    \"updated_at\": datetime.datetime.now(datetime.timezone.utc)\n",
    "}\n",
    "\n",
    "lvroom_collection.insert_one(example)\n"
   ]
  },
  {
   "cell_type": "code",
   "execution_count": 13,
   "metadata": {},
   "outputs": [
    {
     "data": {
      "text/plain": [
       "InsertOneResult(ObjectId('65f6cc67e45e24e4bfb74c68'), acknowledged=True)"
      ]
     },
     "execution_count": 13,
     "metadata": {},
     "output_type": "execute_result"
    }
   ],
   "source": [
    "# Bed room collection\n",
    "bedroom_collection = db[\"bedroom\"]\n",
    "example = {\n",
    "    \"automode\": False,\n",
    "    \"temp\": 20, \"humidity\": 30, \"lux\": 600,\n",
    "    \"light\": {\n",
    "        \"chandeliers\": \"on\",\n",
    "        \"light1\": \"on\",\n",
    "        \"light2\": \"on\"\n",
    "    },\n",
    "    \"air_conditioner\": {\n",
    "        \"state\": \"on\",\n",
    "        \"current_temp\": 30,\n",
    "    },\n",
    "    \"updated_at\": datetime.datetime.now(datetime.timezone.utc)\n",
    "}\n",
    "\n",
    "bedroom_collection.insert_one(example)\n"
   ]
  },
  {
   "cell_type": "code",
   "execution_count": 2,
   "metadata": {},
   "outputs": [
    {
     "name": "stdout",
     "output_type": "stream",
     "text": [
      "<class 'str'>\n"
     ]
    }
   ],
   "source": [
    "import datetime, pytz\n",
    "\n",
    "tz = pytz.timezone('Asia/Ho_Chi_Minh')\n",
    "print(type(datetime.datetime.now(tz).isoformat()))"
   ]
  }
 ],
 "metadata": {
  "kernelspec": {
   "display_name": "Python 3",
   "language": "python",
   "name": "python3"
  },
  "language_info": {
   "codemirror_mode": {
    "name": "ipython",
    "version": 3
   },
   "file_extension": ".py",
   "mimetype": "text/x-python",
   "name": "python",
   "nbconvert_exporter": "python",
   "pygments_lexer": "ipython3",
   "version": "3.12.2"
  }
 },
 "nbformat": 4,
 "nbformat_minor": 2
}
