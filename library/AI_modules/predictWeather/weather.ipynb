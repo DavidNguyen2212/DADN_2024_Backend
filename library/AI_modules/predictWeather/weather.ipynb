{
 "cells": [
  {
   "cell_type": "code",
   "execution_count": 15,
   "metadata": {},
   "outputs": [
    {
     "name": "stdout",
     "output_type": "stream",
     "text": [
      "Accuracy: 0.494991652754591\n",
      "              precision    recall  f1-score   support\n",
      "\n",
      "           0       0.49      0.62      0.55       293\n",
      "           1       0.39      0.30      0.34       323\n",
      "           2       0.52      0.58      0.55       297\n",
      "           3       0.57      0.50      0.53       285\n",
      "\n",
      "    accuracy                           0.49      1198\n",
      "   macro avg       0.49      0.50      0.49      1198\n",
      "weighted avg       0.49      0.49      0.49      1198\n",
      "\n"
     ]
    }
   ],
   "source": [
    "import pandas as pd\n",
    "from sklearn.preprocessing import LabelEncoder, StandardScaler\n",
    "from sklearn.model_selection import train_test_split, GridSearchCV\n",
    "from sklearn.ensemble import RandomForestClassifier\n",
    "from sklearn.metrics import accuracy_score, classification_report\n",
    "\n",
    "# Read the CSV file\n",
    "data = pd.read_csv(\"./HCM_Dataset.csv\")\n",
    "\n",
    "# Function to create list\n",
    "def Create_list(x):\n",
    "    list_of_lists = [w.split() for w in x.split(',')]\n",
    "    flat_list = [item for sublist in list_of_lists for item in sublist]\n",
    "    return flat_list\n",
    "\n",
    "# Function to get weather\n",
    "def Get_Weather(list1):\n",
    "    if 'Cloudy' in list1:\n",
    "        return 'CLOUDY'\n",
    "    elif 'Rainy' in list1:\n",
    "        return 'RAINY'\n",
    "    elif 'Sunny' in list1:\n",
    "        return 'SUNNY'\n",
    "    elif 'Clear' in list1:\n",
    "        return 'CLEAR'\n",
    "\n",
    "# Apply functions to create standardized weather column\n",
    "data['Std_Weather'] = data['Weather'].apply(lambda x: Get_Weather(Create_list(x)))\n",
    "\n",
    "# Sample data for balanced classes\n",
    "cloudy_df = data[data['Std_Weather'] == 'CLOUDY'].sample(1500)\n",
    "rainy_df = data[data['Std_Weather'] == 'RAINY'].sample(1500)\n",
    "clear_df = data[data['Std_Weather'] == 'CLEAR'].sample(1500)\n",
    "sunny_df = data[data['Std_Weather'] == 'SUNNY']\n",
    "\n",
    "# Concatenate sampled dataframes\n",
    "weather_df = pd.concat([cloudy_df, clear_df, rainy_df, sunny_df], axis=0)\n",
    "\n",
    "# Drop unnecessary columns\n",
    "weather_df.drop(columns=['Date/Time', 'Weather', 'Temperature'], axis=1, inplace=True)\n",
    "\n",
    "# Encode categorical variable\n",
    "label_encoder = LabelEncoder()\n",
    "weather_df['Std_Weather'] = label_encoder.fit_transform(weather_df['Std_Weather'])\n",
    "\n",
    "# Standardize features\n",
    "scaler = StandardScaler()\n",
    "X = weather_df.drop(['Std_Weather'], axis=1)\n",
    "X_std = scaler.fit_transform(X)\n",
    "y = weather_df['Std_Weather']\n",
    "\n",
    "# Split data into training and testing sets\n",
    "x_train, x_test, y_train, y_test = train_test_split(X_std, y, test_size=0.2, random_state=42)\n",
    "\n",
    "# Train a Random Forest Classifier\n",
    "rf_model = RandomForestClassifier(max_features='sqrt', n_estimators=100)\n",
    "rf_model.fit(x_train, y_train)\n",
    "\n",
    "# Make predictions on the test set\n",
    "y_pred_rf = rf_model.predict(x_test)\n",
    "\n",
    "# Evaluate the model\n",
    "print(\"Accuracy:\", accuracy_score(y_test, y_pred_rf))\n",
    "print(classification_report(y_test, y_pred_rf))\n"
   ]
  },
  {
   "cell_type": "code",
   "execution_count": 17,
   "metadata": {},
   "outputs": [
    {
     "data": {
      "text/plain": [
       "['weatherPredictor.pkl']"
      ]
     },
     "execution_count": 17,
     "metadata": {},
     "output_type": "execute_result"
    }
   ],
   "source": [
    "# Kết xuất\n",
    "import joblib\n",
    "model_with_scaler = (rf_model, scaler)\n",
    "joblib.dump(model_with_scaler, 'weatherPredictor.pkl')"
   ]
  },
  {
   "cell_type": "code",
   "execution_count": 9,
   "metadata": {},
   "outputs": [
    {
     "name": "stderr",
     "output_type": "stream",
     "text": [
      "C:\\Users\\DELL\\AppData\\Local\\Packages\\PythonSoftwareFoundation.Python.3.12_qbz5n2kfra8p0\\LocalCache\\local-packages\\Python312\\site-packages\\sklearn\\base.py:493: UserWarning: X does not have valid feature names, but StandardScaler was fitted with feature names\n",
      "  warnings.warn(\n"
     ]
    },
    {
     "data": {
      "text/plain": [
       "memmap([2])"
      ]
     },
     "execution_count": 9,
     "metadata": {},
     "output_type": "execute_result"
    }
   ],
   "source": [
    "# Example usage\n",
    "weather_predictor = joblib.load(\"./weatherPredict.pkl\", mmap_mode='r')\n",
    "Humidity = 60\n",
    "Temperature = 35\n",
    "input_data = [Humidity, Temperature]\n",
    "scaled_data = scaler.transform([input_data])\n",
    "prediction = weather_predictor.predict(scaled_data)\n",
    "prediction"
   ]
  },
  {
   "cell_type": "code",
   "execution_count": 10,
   "metadata": {},
   "outputs": [
    {
     "name": "stdout",
     "output_type": "stream",
     "text": [
      "RAINY\n"
     ]
    }
   ],
   "source": [
    "if prediction[0] == 0:\n",
    "    print('CLEAR')\n",
    "elif prediction[0] == 1:\n",
    "    print('CLOUDY')\n",
    "elif prediction[0] == 2:\n",
    "    print('RAINY')\n",
    "else:\n",
    "    print('SUNNY')"
   ]
  }
 ],
 "metadata": {
  "kernelspec": {
   "display_name": "Python 3",
   "language": "python",
   "name": "python3"
  },
  "language_info": {
   "codemirror_mode": {
    "name": "ipython",
    "version": 3
   },
   "file_extension": ".py",
   "mimetype": "text/x-python",
   "name": "python",
   "nbconvert_exporter": "python",
   "pygments_lexer": "ipython3",
   "version": "3.12.3"
  }
 },
 "nbformat": 4,
 "nbformat_minor": 2
}
